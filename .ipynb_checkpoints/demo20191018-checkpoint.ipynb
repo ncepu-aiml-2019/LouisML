{
 "cells": [
  {
   "cell_type": "code",
   "execution_count": 1,
   "metadata": {},
   "outputs": [
    {
     "name": "stdout",
     "output_type": "stream",
     "text": [
      "2\n",
      "3\n",
      "5\n",
      "7\n",
      "11\n",
      "13\n",
      "17\n",
      "19\n",
      "23\n",
      "29\n",
      "31\n",
      "37\n",
      "41\n",
      "43\n",
      "47\n",
      "53\n",
      "59\n",
      "61\n",
      "67\n",
      "71\n",
      "73\n",
      "79\n",
      "83\n",
      "89\n",
      "97\n"
     ]
    }
   ],
   "source": [
    "# 作业：求100以内所有质数\n",
    "import math\n",
    "\n",
    "def is_prime(n):\n",
    "    if n < 2:\n",
    "        return False\n",
    "    for j in range(2, int(math.sqrt(n) + 1)):\n",
    "        if n % j == 0:\n",
    "            return False\n",
    "    return True\n",
    "\n",
    "for i in range(1, 101):\n",
    "    if is_prime(i):\n",
    "        print(i)\n"
   ]
  },
  {
   "cell_type": "code",
   "execution_count": 1,
   "metadata": {},
   "outputs": [
    {
     "name": "stdout",
     "output_type": "stream",
     "text": [
      "[1, 2, 3, 4]\n",
      "[1 2 3 4]\n"
     ]
    }
   ],
   "source": [
    "# 20191018课上笔记\n",
    "import numpy as np\n",
    "list1 = [1,2,3,4]\n",
    "list2 = np.array(list1)\n",
    "print(list1)\n",
    "print(list2)"
   ]
  },
  {
   "cell_type": "code",
   "execution_count": 3,
   "metadata": {},
   "outputs": [
    {
     "name": "stdout",
     "output_type": "stream",
     "text": [
      "[ 1  4  9 16]\n"
     ]
    }
   ],
   "source": [
    "# 20191018课上笔记\n",
    "import numpy as np\n",
    "list1 = [1,2,3,4]\n",
    "print(np.array(list1)**2)\n",
    "# numpy 当中的平方是每个元素分别平方"
   ]
  },
  {
   "cell_type": "code",
   "execution_count": 7,
   "metadata": {},
   "outputs": [
    {
     "name": "stdout",
     "output_type": "stream",
     "text": [
      "(4,)\n",
      "<class 'numpy.ndarray'>\n"
     ]
    }
   ],
   "source": [
    "# 20191018课上笔记\n",
    "import numpy as np\n",
    "list1 = [1,2,3,4]\n",
    "list2 = np.array(list1)\n",
    "print(np.shape(list2))\n",
    "print(type(list2))"
   ]
  },
  {
   "cell_type": "code",
   "execution_count": 14,
   "metadata": {
    "scrolled": true
   },
   "outputs": [
    {
     "name": "stdout",
     "output_type": "stream",
     "text": [
      "(4,)\n",
      "[1 2 3 4]\n",
      "(4,)\n"
     ]
    }
   ],
   "source": [
    "# 20191018课上笔记\n",
    "import numpy as np\n",
    "list1 = [1,2,3,4]\n",
    "list2 = np.array(list1)\n",
    "print(np.shape(list2))\n",
    "list2.reshape(4,1)\n",
    "print(list2)\n",
    "print(np.shape(list2))"
   ]
  },
  {
   "cell_type": "code",
   "execution_count": 15,
   "metadata": {},
   "outputs": [
    {
     "name": "stdout",
     "output_type": "stream",
     "text": [
      "[[1. 0. 0. 0.]\n",
      " [0. 1. 0. 0.]\n",
      " [0. 0. 1. 0.]\n",
      " [0. 0. 0. 1.]]\n"
     ]
    }
   ],
   "source": [
    "# 20191018课上笔记\n",
    "import numpy as np\n",
    "list3 = np.eye(4) # 生成单位矩阵\n",
    "print(list3)"
   ]
  },
  {
   "cell_type": "code",
   "execution_count": 16,
   "metadata": {},
   "outputs": [
    {
     "name": "stdout",
     "output_type": "stream",
     "text": [
      "[[1 2]\n",
      " [3 4]]\n"
     ]
    }
   ],
   "source": [
    "# 20191018课上笔记\n",
    "# 重新整理为某个形式，元素个数相同即可\n",
    "import numpy as np\n",
    "list1 = np.array([1,2,3,4])\n",
    "list2 = list1.reshape(2,2)\n",
    "print(list2)"
   ]
  },
  {
   "cell_type": "code",
   "execution_count": 37,
   "metadata": {},
   "outputs": [
    {
     "name": "stdout",
     "output_type": "stream",
     "text": [
      "(3, 4)\n",
      "[[4 5 6]]\n"
     ]
    }
   ],
   "source": [
    "# 20191018课上笔记\n",
    "# 重新整理为某个形式，元素个数相同即可\n",
    "import numpy as np\n",
    "list1 = np.array([[1,2,3,4],\n",
    "                  [2,3,4,5],\n",
    "                  [3,4,5,6]])\n",
    "print(np.shape(list1))\n",
    "print(list1[2:3,1:4])\n"
   ]
  },
  {
   "cell_type": "code",
   "execution_count": null,
   "metadata": {},
   "outputs": [],
   "source": []
  }
 ],
 "metadata": {
  "kernelspec": {
   "display_name": "Python 3",
   "language": "python",
   "name": "python3"
  },
  "language_info": {
   "codemirror_mode": {
    "name": "ipython",
    "version": 3
   },
   "file_extension": ".py",
   "mimetype": "text/x-python",
   "name": "python",
   "nbconvert_exporter": "python",
   "pygments_lexer": "ipython3",
   "version": "3.7.0"
  }
 },
 "nbformat": 4,
 "nbformat_minor": 2
}
