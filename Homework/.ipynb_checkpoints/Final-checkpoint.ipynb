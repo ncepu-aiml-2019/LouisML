{
 "cells": [
  {
   "cell_type": "code",
   "execution_count": 3,
   "metadata": {},
   "outputs": [
    {
     "name": "stdout",
     "output_type": "stream",
     "text": [
      "Hello,world!\n"
     ]
    }
   ],
   "source": [
    "# 这个是白酒质量预测的代码\n",
    "print(\"Hello,world!\")"
   ]
  },
  {
   "cell_type": "code",
   "execution_count": 1,
   "metadata": {},
   "outputs": [
    {
     "data": {
      "text/html": [
       "<div>\n",
       "<style scoped>\n",
       "    .dataframe tbody tr th:only-of-type {\n",
       "        vertical-align: middle;\n",
       "    }\n",
       "\n",
       "    .dataframe tbody tr th {\n",
       "        vertical-align: top;\n",
       "    }\n",
       "\n",
       "    .dataframe thead th {\n",
       "        text-align: right;\n",
       "    }\n",
       "</style>\n",
       "<table border=\"1\" class=\"dataframe\">\n",
       "  <thead>\n",
       "    <tr style=\"text-align: right;\">\n",
       "      <th></th>\n",
       "      <th>fixed acidity</th>\n",
       "      <th>volatile acidity</th>\n",
       "      <th>citric acid</th>\n",
       "      <th>residual sugar</th>\n",
       "      <th>chlorides</th>\n",
       "      <th>free sulfur dioxide</th>\n",
       "      <th>total sulfur dioxide</th>\n",
       "      <th>density</th>\n",
       "      <th>pH</th>\n",
       "      <th>sulphates</th>\n",
       "      <th>alcohol</th>\n",
       "      <th>quality</th>\n",
       "    </tr>\n",
       "  </thead>\n",
       "  <tbody>\n",
       "    <tr>\n",
       "      <td>0</td>\n",
       "      <td>7.0</td>\n",
       "      <td>0.27</td>\n",
       "      <td>0.36</td>\n",
       "      <td>20.7</td>\n",
       "      <td>0.045</td>\n",
       "      <td>45.0</td>\n",
       "      <td>170.0</td>\n",
       "      <td>1.0010</td>\n",
       "      <td>3.00</td>\n",
       "      <td>0.45</td>\n",
       "      <td>8.8</td>\n",
       "      <td>6</td>\n",
       "    </tr>\n",
       "    <tr>\n",
       "      <td>1</td>\n",
       "      <td>6.3</td>\n",
       "      <td>0.30</td>\n",
       "      <td>0.34</td>\n",
       "      <td>1.6</td>\n",
       "      <td>0.049</td>\n",
       "      <td>14.0</td>\n",
       "      <td>132.0</td>\n",
       "      <td>0.9940</td>\n",
       "      <td>3.30</td>\n",
       "      <td>0.49</td>\n",
       "      <td>9.5</td>\n",
       "      <td>6</td>\n",
       "    </tr>\n",
       "    <tr>\n",
       "      <td>2</td>\n",
       "      <td>8.1</td>\n",
       "      <td>0.28</td>\n",
       "      <td>0.40</td>\n",
       "      <td>6.9</td>\n",
       "      <td>0.050</td>\n",
       "      <td>30.0</td>\n",
       "      <td>97.0</td>\n",
       "      <td>0.9951</td>\n",
       "      <td>3.26</td>\n",
       "      <td>0.44</td>\n",
       "      <td>10.1</td>\n",
       "      <td>6</td>\n",
       "    </tr>\n",
       "    <tr>\n",
       "      <td>3</td>\n",
       "      <td>7.2</td>\n",
       "      <td>0.23</td>\n",
       "      <td>0.32</td>\n",
       "      <td>8.5</td>\n",
       "      <td>0.058</td>\n",
       "      <td>47.0</td>\n",
       "      <td>186.0</td>\n",
       "      <td>0.9956</td>\n",
       "      <td>3.19</td>\n",
       "      <td>0.40</td>\n",
       "      <td>9.9</td>\n",
       "      <td>6</td>\n",
       "    </tr>\n",
       "    <tr>\n",
       "      <td>4</td>\n",
       "      <td>7.2</td>\n",
       "      <td>0.23</td>\n",
       "      <td>0.32</td>\n",
       "      <td>8.5</td>\n",
       "      <td>0.058</td>\n",
       "      <td>47.0</td>\n",
       "      <td>186.0</td>\n",
       "      <td>0.9956</td>\n",
       "      <td>3.19</td>\n",
       "      <td>0.40</td>\n",
       "      <td>9.9</td>\n",
       "      <td>6</td>\n",
       "    </tr>\n",
       "    <tr>\n",
       "      <td>5</td>\n",
       "      <td>8.1</td>\n",
       "      <td>0.28</td>\n",
       "      <td>0.40</td>\n",
       "      <td>6.9</td>\n",
       "      <td>0.050</td>\n",
       "      <td>30.0</td>\n",
       "      <td>97.0</td>\n",
       "      <td>0.9951</td>\n",
       "      <td>3.26</td>\n",
       "      <td>0.44</td>\n",
       "      <td>10.1</td>\n",
       "      <td>6</td>\n",
       "    </tr>\n",
       "    <tr>\n",
       "      <td>6</td>\n",
       "      <td>6.2</td>\n",
       "      <td>0.32</td>\n",
       "      <td>0.16</td>\n",
       "      <td>7.0</td>\n",
       "      <td>0.045</td>\n",
       "      <td>30.0</td>\n",
       "      <td>136.0</td>\n",
       "      <td>0.9949</td>\n",
       "      <td>3.18</td>\n",
       "      <td>0.47</td>\n",
       "      <td>9.6</td>\n",
       "      <td>6</td>\n",
       "    </tr>\n",
       "    <tr>\n",
       "      <td>7</td>\n",
       "      <td>7.0</td>\n",
       "      <td>0.27</td>\n",
       "      <td>0.36</td>\n",
       "      <td>20.7</td>\n",
       "      <td>0.045</td>\n",
       "      <td>45.0</td>\n",
       "      <td>170.0</td>\n",
       "      <td>1.0010</td>\n",
       "      <td>3.00</td>\n",
       "      <td>0.45</td>\n",
       "      <td>8.8</td>\n",
       "      <td>6</td>\n",
       "    </tr>\n",
       "    <tr>\n",
       "      <td>8</td>\n",
       "      <td>6.3</td>\n",
       "      <td>0.30</td>\n",
       "      <td>0.34</td>\n",
       "      <td>1.6</td>\n",
       "      <td>0.049</td>\n",
       "      <td>14.0</td>\n",
       "      <td>132.0</td>\n",
       "      <td>0.9940</td>\n",
       "      <td>3.30</td>\n",
       "      <td>0.49</td>\n",
       "      <td>9.5</td>\n",
       "      <td>6</td>\n",
       "    </tr>\n",
       "    <tr>\n",
       "      <td>9</td>\n",
       "      <td>8.1</td>\n",
       "      <td>0.22</td>\n",
       "      <td>0.43</td>\n",
       "      <td>1.5</td>\n",
       "      <td>0.044</td>\n",
       "      <td>28.0</td>\n",
       "      <td>129.0</td>\n",
       "      <td>0.9938</td>\n",
       "      <td>3.22</td>\n",
       "      <td>0.45</td>\n",
       "      <td>11.0</td>\n",
       "      <td>6</td>\n",
       "    </tr>\n",
       "  </tbody>\n",
       "</table>\n",
       "</div>"
      ],
      "text/plain": [
       "   fixed acidity  volatile acidity  citric acid  residual sugar  chlorides  \\\n",
       "0            7.0              0.27         0.36            20.7      0.045   \n",
       "1            6.3              0.30         0.34             1.6      0.049   \n",
       "2            8.1              0.28         0.40             6.9      0.050   \n",
       "3            7.2              0.23         0.32             8.5      0.058   \n",
       "4            7.2              0.23         0.32             8.5      0.058   \n",
       "5            8.1              0.28         0.40             6.9      0.050   \n",
       "6            6.2              0.32         0.16             7.0      0.045   \n",
       "7            7.0              0.27         0.36            20.7      0.045   \n",
       "8            6.3              0.30         0.34             1.6      0.049   \n",
       "9            8.1              0.22         0.43             1.5      0.044   \n",
       "\n",
       "   free sulfur dioxide  total sulfur dioxide  density    pH  sulphates  \\\n",
       "0                 45.0                 170.0   1.0010  3.00       0.45   \n",
       "1                 14.0                 132.0   0.9940  3.30       0.49   \n",
       "2                 30.0                  97.0   0.9951  3.26       0.44   \n",
       "3                 47.0                 186.0   0.9956  3.19       0.40   \n",
       "4                 47.0                 186.0   0.9956  3.19       0.40   \n",
       "5                 30.0                  97.0   0.9951  3.26       0.44   \n",
       "6                 30.0                 136.0   0.9949  3.18       0.47   \n",
       "7                 45.0                 170.0   1.0010  3.00       0.45   \n",
       "8                 14.0                 132.0   0.9940  3.30       0.49   \n",
       "9                 28.0                 129.0   0.9938  3.22       0.45   \n",
       "\n",
       "   alcohol  quality  \n",
       "0      8.8        6  \n",
       "1      9.5        6  \n",
       "2     10.1        6  \n",
       "3      9.9        6  \n",
       "4      9.9        6  \n",
       "5     10.1        6  \n",
       "6      9.6        6  \n",
       "7      8.8        6  \n",
       "8      9.5        6  \n",
       "9     11.0        6  "
      ]
     },
     "execution_count": 1,
     "metadata": {},
     "output_type": "execute_result"
    }
   ],
   "source": [
    "import pandas as pd\n",
    "df = pd.read_csv('winequality-white.csv',sep=';')\n",
    "# 读取白酒的数据库文件，使用逗号进行划分\n",
    "df.head(10)\n",
    "# 显示数据,默认显示前5行，传入参数是显示的行数"
   ]
  },
  {
   "cell_type": "code",
   "execution_count": 5,
   "metadata": {
    "scrolled": true
   },
   "outputs": [
    {
     "data": {
      "text/plain": [
       "fixed acidity           float64\n",
       "volatile acidity        float64\n",
       "citric acid             float64\n",
       "residual sugar          float64\n",
       "chlorides               float64\n",
       "free sulfur dioxide     float64\n",
       "total sulfur dioxide    float64\n",
       "density                 float64\n",
       "pH                      float64\n",
       "sulphates               float64\n",
       "alcohol                 float64\n",
       "quality                   int64\n",
       "dtype: object"
      ]
     },
     "execution_count": 5,
     "metadata": {},
     "output_type": "execute_result"
    }
   ],
   "source": [
    "df.dtypes\n",
    "# 显示所有的列，以及对应列的属性"
   ]
  },
  {
   "cell_type": "markdown",
   "metadata": {},
   "source": [
    "### 对于上边这些英语进行集中翻译\n",
    "fixed acidity：非挥发性酸\n",
    "volatile acidity：挥发性酸度\n",
    "citric acid：柠檬酸\n",
    "residual：残差\n",
    "chlorides：氯化物\n",
    "free sulfur dioxide：游离二氧化硫\n",
    "total sulfur dioxide：总二氧化硫\n",
    "density：密度\n",
    "pH：酸碱度\n",
    "sulphates：硫酸盐\n",
    "alcohol：酒精度\n",
    "quality：质量\n"
   ]
  },
  {
   "cell_type": "code",
   "execution_count": 6,
   "metadata": {},
   "outputs": [
    {
     "name": "stdout",
     "output_type": "stream",
     "text": [
      "<class 'pandas.core.frame.DataFrame'>\n",
      "RangeIndex: 4898 entries, 0 to 4897\n",
      "Data columns (total 12 columns):\n",
      "fixed acidity           4898 non-null float64\n",
      "volatile acidity        4898 non-null float64\n",
      "citric acid             4898 non-null float64\n",
      "residual sugar          4898 non-null float64\n",
      "chlorides               4898 non-null float64\n",
      "free sulfur dioxide     4898 non-null float64\n",
      "total sulfur dioxide    4898 non-null float64\n",
      "density                 4898 non-null float64\n",
      "pH                      4898 non-null float64\n",
      "sulphates               4898 non-null float64\n",
      "alcohol                 4898 non-null float64\n",
      "quality                 4898 non-null int64\n",
      "dtypes: float64(11), int64(1)\n",
      "memory usage: 459.3 KB\n"
     ]
    }
   ],
   "source": [
    "df.info()\n",
    "# 将这个整个文件的统计信息进行输出"
   ]
  },
  {
   "cell_type": "code",
   "execution_count": 7,
   "metadata": {},
   "outputs": [
    {
     "data": {
      "text/plain": [
       "0       0.27\n",
       "1       0.30\n",
       "2       0.28\n",
       "3       0.23\n",
       "4       0.23\n",
       "        ... \n",
       "4893    0.21\n",
       "4894    0.32\n",
       "4895    0.24\n",
       "4896    0.29\n",
       "4897    0.21\n",
       "Name: volatile acidity, Length: 4898, dtype: float64"
      ]
     },
     "execution_count": 7,
     "metadata": {},
     "output_type": "execute_result"
    }
   ],
   "source": [
    "df[\"volatile acidity\"]"
   ]
  },
  {
   "cell_type": "code",
   "execution_count": 8,
   "metadata": {},
   "outputs": [
    {
     "data": {
      "text/plain": [
       "(4898, 12)"
      ]
     },
     "execution_count": 8,
     "metadata": {},
     "output_type": "execute_result"
    }
   ],
   "source": [
    "df.shape\n",
    "# 显示一个元组，分别代表行数和列数"
   ]
  },
  {
   "cell_type": "code",
   "execution_count": 9,
   "metadata": {},
   "outputs": [
    {
     "data": {
      "text/plain": [
       "Index(['fixed acidity', 'volatile acidity', 'citric acid', 'residual sugar',\n",
       "       'chlorides', 'free sulfur dioxide', 'total sulfur dioxide', 'density',\n",
       "       'pH', 'sulphates', 'alcohol', 'quality'],\n",
       "      dtype='object')"
      ]
     },
     "execution_count": 9,
     "metadata": {},
     "output_type": "execute_result"
    }
   ],
   "source": [
    "df.columns\n",
    "# 输出所有的列的标题"
   ]
  },
  {
   "cell_type": "code",
   "execution_count": 10,
   "metadata": {},
   "outputs": [
    {
     "data": {
      "text/html": [
       "<div>\n",
       "<style scoped>\n",
       "    .dataframe tbody tr th:only-of-type {\n",
       "        vertical-align: middle;\n",
       "    }\n",
       "\n",
       "    .dataframe tbody tr th {\n",
       "        vertical-align: top;\n",
       "    }\n",
       "\n",
       "    .dataframe thead th {\n",
       "        text-align: right;\n",
       "    }\n",
       "</style>\n",
       "<table border=\"1\" class=\"dataframe\">\n",
       "  <thead>\n",
       "    <tr style=\"text-align: right;\">\n",
       "      <th></th>\n",
       "      <th>fixed acidity</th>\n",
       "      <th>volatile acidity</th>\n",
       "      <th>citric acid</th>\n",
       "      <th>residual sugar</th>\n",
       "      <th>chlorides</th>\n",
       "      <th>free sulfur dioxide</th>\n",
       "      <th>total sulfur dioxide</th>\n",
       "      <th>density</th>\n",
       "      <th>pH</th>\n",
       "      <th>sulphates</th>\n",
       "      <th>alcohol</th>\n",
       "      <th>quality</th>\n",
       "    </tr>\n",
       "  </thead>\n",
       "  <tbody>\n",
       "    <tr>\n",
       "      <td>count</td>\n",
       "      <td>4898.000000</td>\n",
       "      <td>4898.000000</td>\n",
       "      <td>4898.000000</td>\n",
       "      <td>4898.000000</td>\n",
       "      <td>4898.000000</td>\n",
       "      <td>4898.000000</td>\n",
       "      <td>4898.000000</td>\n",
       "      <td>4898.000000</td>\n",
       "      <td>4898.000000</td>\n",
       "      <td>4898.000000</td>\n",
       "      <td>4898.000000</td>\n",
       "      <td>4898.000000</td>\n",
       "    </tr>\n",
       "    <tr>\n",
       "      <td>mean</td>\n",
       "      <td>6.854788</td>\n",
       "      <td>0.278241</td>\n",
       "      <td>0.334192</td>\n",
       "      <td>6.391415</td>\n",
       "      <td>0.045772</td>\n",
       "      <td>35.308085</td>\n",
       "      <td>138.360657</td>\n",
       "      <td>0.994027</td>\n",
       "      <td>3.188267</td>\n",
       "      <td>0.489847</td>\n",
       "      <td>10.514267</td>\n",
       "      <td>5.877909</td>\n",
       "    </tr>\n",
       "    <tr>\n",
       "      <td>std</td>\n",
       "      <td>0.843868</td>\n",
       "      <td>0.100795</td>\n",
       "      <td>0.121020</td>\n",
       "      <td>5.072058</td>\n",
       "      <td>0.021848</td>\n",
       "      <td>17.007137</td>\n",
       "      <td>42.498065</td>\n",
       "      <td>0.002991</td>\n",
       "      <td>0.151001</td>\n",
       "      <td>0.114126</td>\n",
       "      <td>1.230621</td>\n",
       "      <td>0.885639</td>\n",
       "    </tr>\n",
       "    <tr>\n",
       "      <td>min</td>\n",
       "      <td>3.800000</td>\n",
       "      <td>0.080000</td>\n",
       "      <td>0.000000</td>\n",
       "      <td>0.600000</td>\n",
       "      <td>0.009000</td>\n",
       "      <td>2.000000</td>\n",
       "      <td>9.000000</td>\n",
       "      <td>0.987110</td>\n",
       "      <td>2.720000</td>\n",
       "      <td>0.220000</td>\n",
       "      <td>8.000000</td>\n",
       "      <td>3.000000</td>\n",
       "    </tr>\n",
       "    <tr>\n",
       "      <td>25%</td>\n",
       "      <td>6.300000</td>\n",
       "      <td>0.210000</td>\n",
       "      <td>0.270000</td>\n",
       "      <td>1.700000</td>\n",
       "      <td>0.036000</td>\n",
       "      <td>23.000000</td>\n",
       "      <td>108.000000</td>\n",
       "      <td>0.991723</td>\n",
       "      <td>3.090000</td>\n",
       "      <td>0.410000</td>\n",
       "      <td>9.500000</td>\n",
       "      <td>5.000000</td>\n",
       "    </tr>\n",
       "    <tr>\n",
       "      <td>50%</td>\n",
       "      <td>6.800000</td>\n",
       "      <td>0.260000</td>\n",
       "      <td>0.320000</td>\n",
       "      <td>5.200000</td>\n",
       "      <td>0.043000</td>\n",
       "      <td>34.000000</td>\n",
       "      <td>134.000000</td>\n",
       "      <td>0.993740</td>\n",
       "      <td>3.180000</td>\n",
       "      <td>0.470000</td>\n",
       "      <td>10.400000</td>\n",
       "      <td>6.000000</td>\n",
       "    </tr>\n",
       "    <tr>\n",
       "      <td>75%</td>\n",
       "      <td>7.300000</td>\n",
       "      <td>0.320000</td>\n",
       "      <td>0.390000</td>\n",
       "      <td>9.900000</td>\n",
       "      <td>0.050000</td>\n",
       "      <td>46.000000</td>\n",
       "      <td>167.000000</td>\n",
       "      <td>0.996100</td>\n",
       "      <td>3.280000</td>\n",
       "      <td>0.550000</td>\n",
       "      <td>11.400000</td>\n",
       "      <td>6.000000</td>\n",
       "    </tr>\n",
       "    <tr>\n",
       "      <td>max</td>\n",
       "      <td>14.200000</td>\n",
       "      <td>1.100000</td>\n",
       "      <td>1.660000</td>\n",
       "      <td>65.800000</td>\n",
       "      <td>0.346000</td>\n",
       "      <td>289.000000</td>\n",
       "      <td>440.000000</td>\n",
       "      <td>1.038980</td>\n",
       "      <td>3.820000</td>\n",
       "      <td>1.080000</td>\n",
       "      <td>14.200000</td>\n",
       "      <td>9.000000</td>\n",
       "    </tr>\n",
       "  </tbody>\n",
       "</table>\n",
       "</div>"
      ],
      "text/plain": [
       "       fixed acidity  volatile acidity  citric acid  residual sugar  \\\n",
       "count    4898.000000       4898.000000  4898.000000     4898.000000   \n",
       "mean        6.854788          0.278241     0.334192        6.391415   \n",
       "std         0.843868          0.100795     0.121020        5.072058   \n",
       "min         3.800000          0.080000     0.000000        0.600000   \n",
       "25%         6.300000          0.210000     0.270000        1.700000   \n",
       "50%         6.800000          0.260000     0.320000        5.200000   \n",
       "75%         7.300000          0.320000     0.390000        9.900000   \n",
       "max        14.200000          1.100000     1.660000       65.800000   \n",
       "\n",
       "         chlorides  free sulfur dioxide  total sulfur dioxide      density  \\\n",
       "count  4898.000000          4898.000000           4898.000000  4898.000000   \n",
       "mean      0.045772            35.308085            138.360657     0.994027   \n",
       "std       0.021848            17.007137             42.498065     0.002991   \n",
       "min       0.009000             2.000000              9.000000     0.987110   \n",
       "25%       0.036000            23.000000            108.000000     0.991723   \n",
       "50%       0.043000            34.000000            134.000000     0.993740   \n",
       "75%       0.050000            46.000000            167.000000     0.996100   \n",
       "max       0.346000           289.000000            440.000000     1.038980   \n",
       "\n",
       "                pH    sulphates      alcohol      quality  \n",
       "count  4898.000000  4898.000000  4898.000000  4898.000000  \n",
       "mean      3.188267     0.489847    10.514267     5.877909  \n",
       "std       0.151001     0.114126     1.230621     0.885639  \n",
       "min       2.720000     0.220000     8.000000     3.000000  \n",
       "25%       3.090000     0.410000     9.500000     5.000000  \n",
       "50%       3.180000     0.470000    10.400000     6.000000  \n",
       "75%       3.280000     0.550000    11.400000     6.000000  \n",
       "max       3.820000     1.080000    14.200000     9.000000  "
      ]
     },
     "execution_count": 10,
     "metadata": {},
     "output_type": "execute_result"
    }
   ],
   "source": [
    "df.describe()\n",
    "# 能够直接输出 count 整体数量、mean 平均值、std 标准偏差、min 最小值、四分位点等信息"
   ]
  },
  {
   "cell_type": "code",
   "execution_count": 11,
   "metadata": {},
   "outputs": [
    {
     "data": {
      "text/plain": [
       "0.27824111882401087"
      ]
     },
     "execution_count": 11,
     "metadata": {},
     "output_type": "execute_result"
    }
   ],
   "source": [
    "df[\"volatile acidity\"].mean()\n",
    "# 显示输出某一列的平均值"
   ]
  },
  {
   "cell_type": "code",
   "execution_count": 12,
   "metadata": {},
   "outputs": [
    {
     "data": {
      "text/plain": [
       "6    2198\n",
       "5    1457\n",
       "7     880\n",
       "8     175\n",
       "4     163\n",
       "3      20\n",
       "9       5\n",
       "Name: quality, dtype: int64"
      ]
     },
     "execution_count": 12,
     "metadata": {},
     "output_type": "execute_result"
    }
   ],
   "source": [
    "# 统计质量的那一列的内容使用 value_count()函数\n",
    "# 这个函数统计的内容是每一个分类下分别有多少个数据组成\n",
    "df[\"quality\"].value_counts()"
   ]
  },
  {
   "cell_type": "code",
   "execution_count": 26,
   "metadata": {},
   "outputs": [],
   "source": [
    "# 引入绘图的包\n",
    "import matplotlib.pyplot as plt\n",
    "import seaborn as sns # 这是一个非常重要的数据可视化的库\n",
    "import numpy as np\n",
    "import matplotlib.pyplot as plt\n",
    "import sklearn"
   ]
  },
  {
   "cell_type": "code",
   "execution_count": 18,
   "metadata": {},
   "outputs": [
    {
     "data": {
      "text/plain": [
       "<matplotlib.axes._subplots.AxesSubplot at 0x28fd436a348>"
      ]
     },
     "execution_count": 18,
     "metadata": {},
     "output_type": "execute_result"
    },
    {
     "data": {
      "image/png": "[encoded data removed]",
      "text/plain": [
       "<Figure size 720x288 with 1 Axes>"
      ]
     },
     "metadata": {
      "needs_background": "light"
     },
     "output_type": "display_data"
    }
   ],
   "source": [
    "# 单变量可视化，绘制\n",
    "df[\"chlorides\"].hist(figsize=(10, 4))\n",
    "# 绘制直方图"
   ]
  },
  {
   "cell_type": "code",
   "execution_count": 19,
   "metadata": {},
   "outputs": [
    {
     "data": {
      "text/plain": [
       "<matplotlib.axes._subplots.AxesSubplot at 0x28fd43ef048>"
      ]
     },
     "execution_count": 19,
     "metadata": {},
     "output_type": "execute_result"
    },
    {
     "data": {
      "image/png": "[encoded data removed]",
      "text/plain": [
       "<Figure size 432x288 with 1 Axes>"
      ]
     },
     "metadata": {
      "needs_background": "light"
     },
     "output_type": "display_data"
    }
   ],
   "source": [
    "# 以质量和酒精度关系为例，这个展示的应该是不同的质量下，酒精度的分布情况\n",
    "df.plot(x='quality',y='alcohol',kind='scatter')\n"
   ]
  },
  {
   "cell_type": "code",
   "execution_count": 20,
   "metadata": {},
   "outputs": [
    {
     "data": {
      "text/plain": [
       "<matplotlib.axes._subplots.AxesSubplot at 0x28fd4459948>"
      ]
     },
     "execution_count": 20,
     "metadata": {},
     "output_type": "execute_result"
    },
    {
     "data": {
      "image/png": "[encoded data removed]",
      "text/plain": [
       "<Figure size 432x288 with 1 Axes>"
      ]
     },
     "metadata": {
      "needs_background": "light"
     },
     "output_type": "display_data"
    }
   ],
   "source": [
    "# 同理我们可以得到不同的质量下，PH值的分布情况\n",
    "df.plot(x='quality',y='pH',kind='scatter')"
   ]
  },
  {
   "cell_type": "code",
   "execution_count": 28,
   "metadata": {},
   "outputs": [
    {
     "data": {
      "image/png": "[encoded data removed]",
      "text/plain": [
       "<Figure size 756x360 with 3 Axes>"
      ]
     },
     "metadata": {
      "needs_background": "light"
     },
     "output_type": "display_data"
    }
   ],
   "source": [
    "# 展示各种属性和质量的线性关系\n",
    "sns.pairplot(df, x_vars=['volatile acidity','pH','fixed acidity'], y_vars='quality',kind=\"reg\", height=5, aspect=0.7)\n",
    "# 根据下面的图例我们可以看出，质量和如下的因素应该不是线性的关系，但是可以尝试一下，看一下多元线性回归能达到怎样的正确率\n",
    "plt.show()"
   ]
  },
  {
   "cell_type": "code",
   "execution_count": 29,
   "metadata": {},
   "outputs": [
    {
     "name": "stdout",
     "output_type": "stream",
     "text": [
      "<class 'pandas.core.frame.DataFrame'>\n",
      "RangeIndex: 4898 entries, 0 to 4897\n",
      "Data columns (total 12 columns):\n",
      "fixed acidity           4898 non-null float64\n",
      "volatile acidity        4898 non-null float64\n",
      "citric acid             4898 non-null float64\n",
      "residual sugar          4898 non-null float64\n",
      "chlorides               4898 non-null float64\n",
      "free sulfur dioxide     4898 non-null float64\n",
      "total sulfur dioxide    4898 non-null float64\n",
      "density                 4898 non-null float64\n",
      "pH                      4898 non-null float64\n",
      "sulphates               4898 non-null float64\n",
      "alcohol                 4898 non-null float64\n",
      "quality                 4898 non-null int64\n",
      "dtypes: float64(11), int64(1)\n",
      "memory usage: 459.3 KB\n"
     ]
    }
   ],
   "source": [
    "# 线性回归保存原始数据\n",
    "# 首先先将内容进行一下备份\n",
    "df1 = df.copy()\n",
    "df1.info()"
   ]
  },
  {
   "cell_type": "code",
   "execution_count": 34,
   "metadata": {},
   "outputs": [
    {
     "name": "stdout",
     "output_type": "stream",
     "text": [
      "X_train.shape=(3918, 11)\n",
      " y_train.shape =(3918,)\n",
      " X_test.shape=(980, 11)\n",
      ",  y_test.shape=(980,)\n"
     ]
    }
   ],
   "source": [
    "# 线性回归的训练阶段\n",
    "# 导入包\n",
    "from sklearn.model_selection import train_test_split #这里是引用了交叉验证\n",
    "from sklearn.linear_model import LinearRegression  #线性回归\n",
    "from sklearn import metrics\n",
    "\n",
    "\n",
    "\n",
    "# 然后对数据进行归一化处理\n",
    "items=['fixed acidity','volatile acidity','citric acid','residual sugar','chlorides','free sulfur dioxide','total sulfur dioxide','density','pH','sulphates','alcohol']\n",
    "# df1_data_list=[]\n",
    "# for item in items:\n",
    "#     y = df1.loc[:,item]\n",
    "#     ys = list(preprocessing.scale(y))\n",
    "#     df1_data_list.append(ys)\n",
    "# print(df_data_list)\n",
    "\n",
    "\n",
    "df1_data_x=df1.loc[:,tuple(items)]\n",
    "df1_data_y=df1.loc[:,\"quality\"]\n",
    "X_train,X_test, y_train, y_test = train_test_split(df1_data_x,df1_data_y,test_size = 0.2,random_state=100)\n",
    "print ('X_train.shape={}\\n y_train.shape ={}\\n X_test.shape={}\\n,  y_test.shape={}'.format(X_train.shape,y_train.shape, X_test.shape,y_test.shape))\n",
    "linreg = LinearRegression()\n",
    "model=linreg.fit(X_train, y_train)\n",
    "# print (model)\n",
    "y_pred = linreg.predict(X_test)\n",
    "# print (y_pred)\n",
    "\n",
    "\n"
   ]
  },
  {
   "cell_type": "code",
   "execution_count": 46,
   "metadata": {},
   "outputs": [
    {
     "name": "stdout",
     "output_type": "stream",
     "text": [
      "RMSE by hand: 0.9609731462195508\n",
      "0.49795918367346936\n"
     ]
    }
   ],
   "source": [
    "# 线性回归的评价阶段\n",
    "len_of_pred = len(y_pred)\n",
    "# 评价阶段\n",
    "sum_mean=0\n",
    "for i in range(len_of_pred):\n",
    "    sum_mean+=(y_pred[i]-y_test.values[i])**2\n",
    "sum_erro=np.sqrt(sum_mean/len_of_pred)\n",
    "print (\"RMSE by hand:\",sum_erro)\n",
    "\n",
    "sum_ok = 0\n",
    "for i in range(len_of_pred):\n",
    "    if(int(y_pred[i])==y_test.values[i]):\n",
    "        sum_ok = sum_ok+1\n",
    "print(sum_ok/len_of_pred)\n",
    "\n",
    "# 由下面的结果我们可以看出，预测的结果并不是很好，只有 43% 的正确率，因此线性回归这种方式并不是很好"
   ]
  },
  {
   "cell_type": "code",
   "execution_count": 47,
   "metadata": {},
   "outputs": [
    {
     "name": "stdout",
     "output_type": "stream",
     "text": [
      "<class 'pandas.core.frame.DataFrame'>\n",
      "RangeIndex: 4898 entries, 0 to 4897\n",
      "Data columns (total 12 columns):\n",
      "fixed acidity           4898 non-null float64\n",
      "volatile acidity        4898 non-null float64\n",
      "citric acid             4898 non-null float64\n",
      "residual sugar          4898 non-null float64\n",
      "chlorides               4898 non-null float64\n",
      "free sulfur dioxide     4898 non-null float64\n",
      "total sulfur dioxide    4898 non-null float64\n",
      "density                 4898 non-null float64\n",
      "pH                      4898 non-null float64\n",
      "sulphates               4898 non-null float64\n",
      "alcohol                 4898 non-null float64\n",
      "quality                 4898 non-null int64\n",
      "dtypes: float64(11), int64(1)\n",
      "memory usage: 459.3 KB\n"
     ]
    }
   ],
   "source": [
    "# 下面使用 K 近邻算法进行预测\n",
    "\n",
    "df2 = df.copy()\n",
    "df2.info()\n",
    "\n",
    "from sklearn.datasets import make_classification\n",
    "from sklearn.neighbors import KNeighborsClassifier\n",
    "\n"
   ]
  },
  {
   "cell_type": "code",
   "execution_count": 48,
   "metadata": {},
   "outputs": [
    {
     "name": "stdout",
     "output_type": "stream",
     "text": [
      "X_train.shape=(3918, 11)\n",
      " y_train.shape =(3918,)\n",
      " X_test.shape=(980, 11)\n",
      ",  y_test.shape=(980,)\n",
      "0.49795918367346936\n",
      "正确率： 0.49795918367346936\n"
     ]
    }
   ],
   "source": [
    "# K 近邻算法的训练阶段\n",
    "items=['fixed acidity','volatile acidity','citric acid','residual sugar','chlorides','free sulfur dioxide','total sulfur dioxide','density','pH','sulphates','alcohol']\n",
    "df2_data_x=df2.loc[:,tuple(items)]\n",
    "df2_data_y=df2.loc[:,\"quality\"]\n",
    "x_train2,x_test2, y_train2, y_test2 = train_test_split(df2_data_x,df2_data_y,test_size = 0.2,random_state=100)\n",
    "print ('X_train.shape={}\\n y_train.shape ={}\\n X_test.shape={}\\n,  y_test.shape={}'.format(X_train2.shape,y_train2.shape, X_test2.shape,y_test2.shape))\n",
    "\n",
    "\n",
    "clf=KNeighborsClassifier(n_neighbors=4)\n",
    "clf.fit(x_train2,y_train2)\n",
    "print(clf.score(x_test2,y_test2))\n",
    "y_pred2 = clf.predict(X_test)\n",
    "\n",
    "\n",
    "\n",
    "# 然后看一下分类的准确率\n",
    "sum_ok2 = 0\n",
    "for i in range(len_of_pred):\n",
    "    if(int(y_pred2[i])==y_test2.values[i]):\n",
    "        sum_ok2 = sum_ok2+1\n",
    "print(\"正确率：\",sum_ok2/len_of_pred)\n",
    "# 从下面结果来看，我们这个的分类效果好像也并不是很好，只有百分之49，但是已经比线性分类器要好很多了。"
   ]
  },
  {
   "cell_type": "code",
   "execution_count": 61,
   "metadata": {},
   "outputs": [
    {
     "name": "stdout",
     "output_type": "stream",
     "text": [
      "<class 'pandas.core.frame.DataFrame'>\n",
      "RangeIndex: 4898 entries, 0 to 4897\n",
      "Data columns (total 12 columns):\n",
      "fixed acidity           4898 non-null float64\n",
      "volatile acidity        4898 non-null float64\n",
      "citric acid             4898 non-null float64\n",
      "residual sugar          4898 non-null float64\n",
      "chlorides               4898 non-null float64\n",
      "free sulfur dioxide     4898 non-null float64\n",
      "total sulfur dioxide    4898 non-null float64\n",
      "density                 4898 non-null float64\n",
      "pH                      4898 non-null float64\n",
      "sulphates               4898 non-null float64\n",
      "alcohol                 4898 non-null float64\n",
      "quality                 4898 non-null int64\n",
      "dtypes: float64(11), int64(1)\n",
      "memory usage: 459.3 KB\n",
      "fixed acidity 完成标准化\n",
      "volatile acidity 完成标准化\n",
      "citric acid 完成标准化\n",
      "residual sugar 完成标准化\n",
      "chlorides 完成标准化\n",
      "free sulfur dioxide 完成标准化\n",
      "total sulfur dioxide 完成标准化\n",
      "density 完成标准化\n",
      "pH 完成标准化\n",
      "sulphates 完成标准化\n",
      "alcohol 完成标准化\n"
     ]
    },
    {
     "data": {
      "text/html": [
       "<div>\n",
       "<style scoped>\n",
       "    .dataframe tbody tr th:only-of-type {\n",
       "        vertical-align: middle;\n",
       "    }\n",
       "\n",
       "    .dataframe tbody tr th {\n",
       "        vertical-align: top;\n",
       "    }\n",
       "\n",
       "    .dataframe thead th {\n",
       "        text-align: right;\n",
       "    }\n",
       "</style>\n",
       "<table border=\"1\" class=\"dataframe\">\n",
       "  <thead>\n",
       "    <tr style=\"text-align: right;\">\n",
       "      <th></th>\n",
       "      <th>fixed acidity</th>\n",
       "      <th>volatile acidity</th>\n",
       "      <th>citric acid</th>\n",
       "      <th>residual sugar</th>\n",
       "      <th>chlorides</th>\n",
       "      <th>free sulfur dioxide</th>\n",
       "      <th>total sulfur dioxide</th>\n",
       "      <th>density</th>\n",
       "      <th>pH</th>\n",
       "      <th>sulphates</th>\n",
       "      <th>alcohol</th>\n",
       "      <th>quality</th>\n",
       "    </tr>\n",
       "  </thead>\n",
       "  <tbody>\n",
       "    <tr>\n",
       "      <td>count</td>\n",
       "      <td>4898.000000</td>\n",
       "      <td>4898.000000</td>\n",
       "      <td>4898.000000</td>\n",
       "      <td>4898.000000</td>\n",
       "      <td>4898.000000</td>\n",
       "      <td>4898.000000</td>\n",
       "      <td>4898.000000</td>\n",
       "      <td>4898.000000</td>\n",
       "      <td>4898.000000</td>\n",
       "      <td>4898.000000</td>\n",
       "      <td>4898.000000</td>\n",
       "      <td>4898.000000</td>\n",
       "    </tr>\n",
       "    <tr>\n",
       "      <td>mean</td>\n",
       "      <td>0.293730</td>\n",
       "      <td>0.194354</td>\n",
       "      <td>0.201320</td>\n",
       "      <td>0.088825</td>\n",
       "      <td>0.109117</td>\n",
       "      <td>0.116056</td>\n",
       "      <td>0.300141</td>\n",
       "      <td>0.133360</td>\n",
       "      <td>0.425697</td>\n",
       "      <td>0.313775</td>\n",
       "      <td>0.405527</td>\n",
       "      <td>5.877909</td>\n",
       "    </tr>\n",
       "    <tr>\n",
       "      <td>std</td>\n",
       "      <td>0.081141</td>\n",
       "      <td>0.098818</td>\n",
       "      <td>0.072903</td>\n",
       "      <td>0.077792</td>\n",
       "      <td>0.064831</td>\n",
       "      <td>0.059258</td>\n",
       "      <td>0.098603</td>\n",
       "      <td>0.057662</td>\n",
       "      <td>0.137273</td>\n",
       "      <td>0.132704</td>\n",
       "      <td>0.198487</td>\n",
       "      <td>0.885639</td>\n",
       "    </tr>\n",
       "    <tr>\n",
       "      <td>min</td>\n",
       "      <td>0.000000</td>\n",
       "      <td>0.000000</td>\n",
       "      <td>0.000000</td>\n",
       "      <td>0.000000</td>\n",
       "      <td>0.000000</td>\n",
       "      <td>0.000000</td>\n",
       "      <td>0.000000</td>\n",
       "      <td>0.000000</td>\n",
       "      <td>0.000000</td>\n",
       "      <td>0.000000</td>\n",
       "      <td>0.000000</td>\n",
       "      <td>3.000000</td>\n",
       "    </tr>\n",
       "    <tr>\n",
       "      <td>25%</td>\n",
       "      <td>0.240385</td>\n",
       "      <td>0.127451</td>\n",
       "      <td>0.162651</td>\n",
       "      <td>0.016871</td>\n",
       "      <td>0.080119</td>\n",
       "      <td>0.073171</td>\n",
       "      <td>0.229698</td>\n",
       "      <td>0.088924</td>\n",
       "      <td>0.336364</td>\n",
       "      <td>0.220930</td>\n",
       "      <td>0.241935</td>\n",
       "      <td>5.000000</td>\n",
       "    </tr>\n",
       "    <tr>\n",
       "      <td>50%</td>\n",
       "      <td>0.288462</td>\n",
       "      <td>0.176471</td>\n",
       "      <td>0.192771</td>\n",
       "      <td>0.070552</td>\n",
       "      <td>0.100890</td>\n",
       "      <td>0.111498</td>\n",
       "      <td>0.290023</td>\n",
       "      <td>0.127820</td>\n",
       "      <td>0.418182</td>\n",
       "      <td>0.290698</td>\n",
       "      <td>0.387097</td>\n",
       "      <td>6.000000</td>\n",
       "    </tr>\n",
       "    <tr>\n",
       "      <td>75%</td>\n",
       "      <td>0.336538</td>\n",
       "      <td>0.235294</td>\n",
       "      <td>0.234940</td>\n",
       "      <td>0.142638</td>\n",
       "      <td>0.121662</td>\n",
       "      <td>0.153310</td>\n",
       "      <td>0.366589</td>\n",
       "      <td>0.173318</td>\n",
       "      <td>0.509091</td>\n",
       "      <td>0.383721</td>\n",
       "      <td>0.548387</td>\n",
       "      <td>6.000000</td>\n",
       "    </tr>\n",
       "    <tr>\n",
       "      <td>max</td>\n",
       "      <td>1.000000</td>\n",
       "      <td>1.000000</td>\n",
       "      <td>1.000000</td>\n",
       "      <td>1.000000</td>\n",
       "      <td>1.000000</td>\n",
       "      <td>1.000000</td>\n",
       "      <td>1.000000</td>\n",
       "      <td>1.000000</td>\n",
       "      <td>1.000000</td>\n",
       "      <td>1.000000</td>\n",
       "      <td>1.000000</td>\n",
       "      <td>9.000000</td>\n",
       "    </tr>\n",
       "  </tbody>\n",
       "</table>\n",
       "</div>"
      ],
      "text/plain": [
       "       fixed acidity  volatile acidity  citric acid  residual sugar  \\\n",
       "count    4898.000000       4898.000000  4898.000000     4898.000000   \n",
       "mean        0.293730          0.194354     0.201320        0.088825   \n",
       "std         0.081141          0.098818     0.072903        0.077792   \n",
       "min         0.000000          0.000000     0.000000        0.000000   \n",
       "25%         0.240385          0.127451     0.162651        0.016871   \n",
       "50%         0.288462          0.176471     0.192771        0.070552   \n",
       "75%         0.336538          0.235294     0.234940        0.142638   \n",
       "max         1.000000          1.000000     1.000000        1.000000   \n",
       "\n",
       "         chlorides  free sulfur dioxide  total sulfur dioxide      density  \\\n",
       "count  4898.000000          4898.000000           4898.000000  4898.000000   \n",
       "mean      0.109117             0.116056              0.300141     0.133360   \n",
       "std       0.064831             0.059258              0.098603     0.057662   \n",
       "min       0.000000             0.000000              0.000000     0.000000   \n",
       "25%       0.080119             0.073171              0.229698     0.088924   \n",
       "50%       0.100890             0.111498              0.290023     0.127820   \n",
       "75%       0.121662             0.153310              0.366589     0.173318   \n",
       "max       1.000000             1.000000              1.000000     1.000000   \n",
       "\n",
       "                pH    sulphates      alcohol      quality  \n",
       "count  4898.000000  4898.000000  4898.000000  4898.000000  \n",
       "mean      0.425697     0.313775     0.405527     5.877909  \n",
       "std       0.137273     0.132704     0.198487     0.885639  \n",
       "min       0.000000     0.000000     0.000000     3.000000  \n",
       "25%       0.336364     0.220930     0.241935     5.000000  \n",
       "50%       0.418182     0.290698     0.387097     6.000000  \n",
       "75%       0.509091     0.383721     0.548387     6.000000  \n",
       "max       1.000000     1.000000     1.000000     9.000000  "
      ]
     },
     "execution_count": 61,
     "metadata": {},
     "output_type": "execute_result"
    }
   ],
   "source": [
    "# 前边两个算法的效率都不是很高，这里我将使用多层感知机的算法 MLP 多层感知机\n",
    "# 除了输入输出层，其中间可以有多个隐藏层，\n",
    "\n",
    "from sklearn.neural_network import MLPRegressor,MLPClassifier\n",
    "from sklearn.preprocessing import StandardScaler\n",
    "\n",
    "df3 = df.copy()\n",
    "df3.info()\n",
    "\n",
    "# 进行标准化\n",
    "items=['fixed acidity','volatile acidity','citric acid','residual sugar','chlorides','free sulfur dioxide','total sulfur dioxide','density','pH','sulphates','alcohol']\n",
    "for i in items:\n",
    "    print(i,'完成标准化')\n",
    "    df3[i] = (df3[i]-df3[i].min())/(df3[i].max()-df3[i].min())#即简单实现标准化\n",
    "    \n",
    "df3.describe()\n",
    "\n"
   ]
  },
  {
   "cell_type": "code",
   "execution_count": 71,
   "metadata": {},
   "outputs": [
    {
     "name": "stdout",
     "output_type": "stream",
     "text": [
      "训练集评分： 0.3004083716181725\n",
      "测试集评分： 0.2857142857142857\n",
      "正确率： 0.5571428571428572\n"
     ]
    }
   ],
   "source": [
    "# 神经网络的部分，进行计算(多层感知器)\n",
    "\n",
    "# 准备数据\n",
    "df3_data_x=df3.loc[:,tuple(items)]\n",
    "df3_data_y=df3.loc[:,\"quality\"]\n",
    "x_train3,x_test3, y_train3, y_test3 = train_test_split(df3_data_x,df3_data_y,test_size = 0.2,random_state=100)\n",
    "\n",
    "\n",
    "\n",
    "# 构造分类器\n",
    "# clf_class= MLPClassifier(solver='lbfgs', alpha=1e-5,hidden_layer_sizes=(101,99,97,95), random_state=1)\n",
    "clf_class= MLPClassifier(solver='lbfgs', alpha=1e-5,hidden_layer_sizes=(19,17,17,17), random_state=1)\n",
    "# 构造了四个隐藏层，每个隐藏层的单元分别是 19.17.17.17\n",
    "clf_class.fit(x_train3,y_train3)\n",
    "y_pred3 = clf_class.predict(x_test3)\n",
    "\n",
    "\n",
    "len_of_pred3 = len(y_pred3)\n",
    "# 然后看一下分类的准确率\n",
    "print(\"训练集评分：\", clf.score(x_train3,y_train3))\n",
    "print(\"测试集评分：\", clf.score(x_test3,y_test3))\n",
    "# 因为得到的应该是一个整数，因此如此打分就不是很对了，因此还是要用自己写的计算准确率的方法\n",
    "\n",
    "\n",
    "# 这是自己定义的准确性\n",
    "sum_ok3 = 0\n",
    "for i in range(len_of_pred3):\n",
    "    if(int(y_pred3[i])==y_test3.values[i]):\n",
    "        sum_ok3 = sum_ok3+1\n",
    "print(\"多层感知机正确率：\",sum_ok3/len_of_pred3)\n",
    "# 可以看到下面这个正确率还是有点低的，不能直接拿来用"
   ]
  },
  {
   "cell_type": "code",
   "execution_count": 76,
   "metadata": {},
   "outputs": [
    {
     "name": "stdout",
     "output_type": "stream",
     "text": [
      "线性回归正确率： 0.5336734693877551\n"
     ]
    }
   ],
   "source": [
    "# 不知道为什么神经网络的预测效果也并不是很好，这里看一下逻辑回归模型，不知道效果怎么样\n",
    "# 这个程序建立在第三轮的基础之上\n",
    "\n",
    "\n",
    "from sklearn.linear_model import LogisticRegression\n",
    "\n",
    "logReg = LogisticRegression(penalty='l2', dual=False, tol=0.0001, C=1.0, \n",
    "    fit_intercept=True, intercept_scaling=1, class_weight=None, \n",
    "    random_state=None, solver='liblinear', max_iter=100, multi_class='ovr', \n",
    "    verbose=0, warm_start=False, n_jobs=1)\n",
    "\n",
    "logReg.fit(x_train3,y_train3)\n",
    "y_pred4 = logReg.predict(x_test3)\n",
    "\n",
    "len_of_pred4 = len(y_pred4)\n",
    "\n",
    "sum_ok4 = 0\n",
    "for i in range(len_of_pred4):\n",
    "    if(int(y_pred4[i])==y_test3.values[i]):\n",
    "        sum_ok4 = sum_ok4+1\n",
    "print(\"线性回归正确率：\",sum_ok4/len_of_pred4)\n",
    "# 貌似线性回归的正确率也并不是很高"
   ]
  },
  {
   "cell_type": "code",
   "execution_count": 80,
   "metadata": {},
   "outputs": [
    {
     "name": "stdout",
     "output_type": "stream",
     "text": [
      "支持向量机正确率： 0.5224489795918368\n"
     ]
    }
   ],
   "source": [
    "# 这个程序建立在第三轮的基础之上\n",
    "# 这个是支持向量机的算法\n",
    "from sklearn.svm import SVC\n",
    "svmClass = SVC(C=1.0, kernel='rbf', gamma='auto')\n",
    "\n",
    "svmClass.fit(x_train3,y_train3)\n",
    "y_pred5 = svmClass.predict(x_test3)\n",
    "\n",
    "len_of_pred5 = len(y_pred5)\n",
    "\n",
    "sum_ok5 = 0\n",
    "for i in range(len_of_pred5):\n",
    "    if(int(y_pred5[i])==y_test3.values[i]):\n",
    "        sum_ok5 = sum_ok5+1\n",
    "print(\"支持向量机正确率：\",sum_ok5/len_of_pred5)\n",
    "\n",
    "# 总之这几个程序的正确率都不是很高"
   ]
  },
  {
   "cell_type": "code",
   "execution_count": 84,
   "metadata": {},
   "outputs": [
    {
     "name": "stdout",
     "output_type": "stream",
     "text": [
      "总共的正确率: 0.5387755102040817\n"
     ]
    }
   ],
   "source": [
    "# 没有办法，只能尝试一下集成学习的方法\n",
    "# 在此之前需要将之前所有的程序都运行一遍\n",
    "# counts = np.bincount([1,2,3,4,56,3,2,4,2,88,7,9,5,0,4,3,2,2,45,6,3,2,3,2,3,5,65])\n",
    "#返回众数\n",
    "# np.argmax(counts)\n",
    "# print(len_of_pred)\n",
    "sum_ok_all = 0\n",
    "for i in range(len_of_pred):\n",
    "    counts = np.bincount([int(y_pred[i]),int(y_pred2[i]),int(y_pred3[i]),int(y_pred4[i]),int(y_pred5[i])])\n",
    "    ans = np.argmax(counts)\n",
    "    if(ans == y_test3.values[i]):\n",
    "        sum_ok_all = sum_ok_all+1\n",
    "print(\"总共的正确率:\",sum_ok_all/len_of_pred)\n",
    "# 这个正确率感觉有点低，这里我感觉应该重新整理一下所有的内容"
   ]
  },
  {
   "cell_type": "code",
   "execution_count": 117,
   "metadata": {},
   "outputs": [
    {
     "name": "stdout",
     "output_type": "stream",
     "text": [
      "0.2597836330029668\n",
      "0.49795918367346936\n",
      "0.5051020408163265\n",
      "0.5255102040816326\n",
      "0.576530612244898\n",
      "总共的正确率: 0.5428571428571428\n"
     ]
    }
   ],
   "source": [
    "# 这个是集成学习的最终版本\n",
    "# 引入所有可能依赖的包\n",
    "import pandas as pd\n",
    "import matplotlib.pyplot as plt\n",
    "import seaborn as sns # 这是一个非常重要的数据可视化的库\n",
    "import numpy as np\n",
    "import matplotlib.pyplot as plt\n",
    "from sklearn.model_selection import train_test_split #这里是引用了交叉验证\n",
    "from sklearn.linear_model import LinearRegression  #线性回归\n",
    "from sklearn import metrics\n",
    "from sklearn.datasets import make_classification\n",
    "from sklearn.neighbors import KNeighborsClassifier\n",
    "from sklearn.neural_network import MLPRegressor,MLPClassifier\n",
    "from sklearn.preprocessing import StandardScaler\n",
    "from sklearn.linear_model import LogisticRegression\n",
    "from sklearn.svm import SVC\n",
    "\n",
    "# 首先读取数据\n",
    "df = pd.read_csv('winequality-white.csv',sep=';')\n",
    "\n",
    "# 对数据进行分组\n",
    "items=['fixed acidity','volatile acidity','citric acid','residual sugar','chlorides','free sulfur dioxide','total sulfur dioxide','density','pH','sulphates','alcohol']\n",
    "df_data_x=df.loc[:,tuple(items)]\n",
    "df_data_y=df.loc[:,\"quality\"]\n",
    "x_train,x_test, y_train, y_test = train_test_split(df_data_x,df_data_y,test_size = 0.2,random_state=100)\n",
    "\n",
    "\n",
    "# 数据预处理\n",
    "\n",
    "\n",
    "\n",
    "\n",
    "# 数据标准化\n",
    "#for i in items:\n",
    "#    print(i,'完成标准化')\n",
    "#    df[i] = (df[i]-df[i].min())/(df[i].max()-df[i].min())#即简单实现标准化\n",
    "\n",
    "# 构造分类器\n",
    "linreg = LinearRegression()\n",
    "clf = KNeighborsClassifier(n_neighbors=4)\n",
    "clf_class= MLPClassifier(solver='lbfgs', alpha=1e-5,hidden_layer_sizes=(19,17,17,17), random_state=1)\n",
    "logReg = LogisticRegression(penalty='l2', dual=False, tol=0.0001, C=1.0, \n",
    "    fit_intercept=True, intercept_scaling=1, class_weight=None, \n",
    "    random_state=None, solver='liblinear', max_iter=100, multi_class='ovr', \n",
    "    verbose=0, warm_start=False, n_jobs=1)\n",
    "svmClass = SVC(C=1.0, kernel='rbf', gamma='auto')\n",
    "\n",
    "# 进行训练\n",
    "linreg.fit(x_train, y_train)\n",
    "clf.fit(x_train, y_train)\n",
    "clf_class.fit(x_train, y_train)\n",
    "logReg.fit(x_train, y_train)\n",
    "svmClass.fit(x_train, y_train)\n",
    "\n",
    "\n",
    "# 进行预测得到结果\n",
    "y_pred1 = linreg.predict(x_test)\n",
    "y_pred2 = clf.predict(x_test)\n",
    "y_pred3 = clf_class.predict(x_test)\n",
    "y_pred4 = logReg.predict(x_test)\n",
    "y_pred5 = svmClass.predict(x_test)\n",
    "\n",
    "\n",
    "# 展示一下所有的 Score\n",
    "print(linreg.score(x_test,y_test))\n",
    "print(clf.score(x_test,y_test))\n",
    "print(clf_class.score(x_test,y_test))\n",
    "print(logReg.score(x_test,y_test))\n",
    "print(svmClass.score(x_test,y_test))\n",
    "\n",
    "# 进行最终的评分\n",
    "len_of_pred = len(y_pred)\n",
    "\n",
    "sum_ok_all = 0\n",
    "for i in range(len_of_pred):\n",
    "    counts = np.bincount([int(y_pred1[i]),int(y_pred2[i]),int(y_pred3[i]),int(y_pred4[i]),int(y_pred5[i])])\n",
    "    ans = np.argmax(counts)\n",
    "    if(ans == y_test.values[i]):\n",
    "        sum_ok_all = sum_ok_all+1\n",
    "print(\"总共的正确率:\",sum_ok_all/len_of_pred)\n",
    "\n",
    "\n",
    "\n",
    "\n",
    "\n",
    "\n"
   ]
  },
  {
   "cell_type": "code",
   "execution_count": 92,
   "metadata": {},
   "outputs": [
    {
     "name": "stdout",
     "output_type": "stream",
     "text": [
      "       fixed acidity  volatile acidity  citric acid  residual sugar  \\\n",
      "count    4898.000000       4898.000000  4898.000000     4898.000000   \n",
      "mean        6.854788          0.278241     0.334192        6.391415   \n",
      "std         0.843868          0.100795     0.121020        5.072058   \n",
      "min         3.800000          0.080000     0.000000        0.600000   \n",
      "25%         6.300000          0.210000     0.270000        1.700000   \n",
      "50%         6.800000          0.260000     0.320000        5.200000   \n",
      "75%         7.300000          0.320000     0.390000        9.900000   \n",
      "max        14.200000          1.100000     1.660000       65.800000   \n",
      "\n",
      "         chlorides  free sulfur dioxide  total sulfur dioxide      density  \\\n",
      "count  4898.000000          4898.000000           4898.000000  4898.000000   \n",
      "mean      0.045772            35.308085            138.360657     0.994027   \n",
      "std       0.021848            17.007137             42.498065     0.002991   \n",
      "min       0.009000             2.000000              9.000000     0.987110   \n",
      "25%       0.036000            23.000000            108.000000     0.991723   \n",
      "50%       0.043000            34.000000            134.000000     0.993740   \n",
      "75%       0.050000            46.000000            167.000000     0.996100   \n",
      "max       0.346000           289.000000            440.000000     1.038980   \n",
      "\n",
      "                pH    sulphates      alcohol      quality  \n",
      "count  4898.000000  4898.000000  4898.000000  4898.000000  \n",
      "mean      3.188267     0.489847    10.514267     5.877909  \n",
      "std       0.151001     0.114126     1.230621     0.885639  \n",
      "min       2.720000     0.220000     8.000000     3.000000  \n",
      "25%       3.090000     0.410000     9.500000     5.000000  \n",
      "50%       3.180000     0.470000    10.400000     6.000000  \n",
      "75%       3.280000     0.550000    11.400000     6.000000  \n",
      "max       3.820000     1.080000    14.200000     9.000000  \n",
      "开始训练\n",
      "训练完成\n",
      "0.5830339956494058\n",
      "0.32732091836734695\n"
     ]
    }
   ],
   "source": [
    "# 这个是从网上下的代码，看看效果如何\n",
    "# -*- coding: utf-8 -*-\n",
    "import numpy as np\n",
    "import pandas as pd\n",
    "from sklearn.model_selection import train_test_split\n",
    "from sklearn import preprocessing\n",
    "from sklearn.ensemble import RandomForestRegressor\n",
    "from sklearn.pipeline import make_pipeline\n",
    "from sklearn.model_selection import GridSearchCV\n",
    "from sklearn.metrics import mean_squared_error,r2_score\n",
    "from sklearn.externals import joblib\n",
    "#导入数据\n",
    "# dataset_url = 'http://mlr.cs.umass.edu/ml/machine-learning-databases/wine-quality/winequality-red.csv'\n",
    "# data = pd.read_csv(dataset_url,sep = ';')\n",
    "data = pd.read_csv('winequality-white.csv',sep=';')\n",
    "\n",
    "print(data.describe())\n",
    "#把数据分为训练集和测试集\n",
    "y = data.quality\n",
    "X = data.drop('quality',axis = 1)\n",
    "X_train,X_test,y_train,y_test = train_test_split(X,y,test_size=0.2,random_state=123,stratify=y)\n",
    "#声明数据预处理步骤\n",
    "pipeline = make_pipeline(preprocessing.StandardScaler(),RandomForestRegressor(n_estimators=100))\n",
    "#声明超参数\n",
    "hyperparameters = {'randomforestregressor__max_features' : ['auto','sqrt','log2'],\n",
    "'randomforestregressor__max_depth':[None,5,3,1]}\n",
    "#优化模型\n",
    "clf = GridSearchCV(pipeline,hyperparameters,cv=10)\n",
    "print(\"开始训练\")\n",
    "clf.fit(X_train,y_train)\n",
    "print(\"训练完成\")\n",
    "#评估模型及预测\n",
    "pred = clf.predict(X_test)\n",
    "print(r2_score(y_test, pred))\n",
    "print(mean_squared_error(y_test, pred))\n",
    "\n",
    "\n",
    "\n"
   ]
  },
  {
   "cell_type": "code",
   "execution_count": 99,
   "metadata": {},
   "outputs": [
    {
     "name": "stdout",
     "output_type": "stream",
     "text": [
      "KNeighborsClassifier(algorithm='auto', leaf_size=30, metric='minkowski',\n",
      "                     metric_params=None, n_jobs=None, n_neighbors=1, p=2,\n",
      "                     weights='uniform')\n",
      "测试数据集得分：0.34\n"
     ]
    }
   ],
   "source": [
    "# 这个也是网上的内容，然后进行了一个操作，但是得分仍然不是很立项\n",
    "from sklearn.neighbors import KNeighborsClassifier\n",
    "knn = KNeighborsClassifier(n_neighbors=1)\n",
    "knn.fit(X_train,y_train)\n",
    "print(knn)\n",
    "KNeighborsClassifier(algorithm='auto', leaf_size=30, metric='minkowski',\n",
    "           metric_params=None, n_jobs=1, n_neighbors=1, p=2,\n",
    "           weights='uniform')\n",
    "print('测试数据集得分：{:.2f}'.format(knn.score(X_test,y_test)))"
   ]
  },
  {
   "cell_type": "code",
   "execution_count": 121,
   "metadata": {},
   "outputs": [
    {
     "name": "stdout",
     "output_type": "stream",
     "text": [
      "0.5216435116850816\n"
     ]
    }
   ],
   "source": [
    "# 炒来一个代码\n",
    "import pandas as pd\n",
    "import numpy as np\n",
    "data = pd.read_csv('winequality-white.csv',sep=';',encoding='ISO-8859-1')\n",
    "features = data.columns.values.tolist()[:-1]\n",
    "x = data[features]\n",
    "y = data['quality']\n",
    "\n",
    "from sklearn import ensemble\n",
    "#设置随机深林分类模型\n",
    "rf = ensemble.RandomForestClassifier(100) #设置100个决策树\n",
    "from sklearn.model_selection import cross_val_score\n",
    "score = cross_val_score(rf,x,y,cv=5,scoring='accuracy')\n",
    "print(np.mean(score))\n"
   ]
  },
  {
   "cell_type": "code",
   "execution_count": null,
   "metadata": {},
   "outputs": [],
   "source": []
  }
 ],
 "metadata": {
  "kernelspec": {
   "display_name": "Python 3",
   "language": "python",
   "name": "python3"
  },
  "language_info": {
   "codemirror_mode": {
    "name": "ipython",
    "version": 3
   },
   "file_extension": ".py",
   "mimetype": "text/x-python",
   "name": "python",
   "nbconvert_exporter": "python",
   "pygments_lexer": "ipython3",
   "version": "3.7.4"
  }
 },
 "nbformat": 4,
 "nbformat_minor": 2
}
